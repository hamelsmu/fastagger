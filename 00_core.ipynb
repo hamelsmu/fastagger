{
 "cells": [
  {
   "cell_type": "code",
   "execution_count": 120,
   "metadata": {},
   "outputs": [],
   "source": [
    "# default_exp core"
   ]
  },
  {
   "cell_type": "markdown",
   "metadata": {},
   "source": [
    "# Core\n",
    "\n",
    "> Basic pdf operations available to fastagger."
   ]
  },
  {
   "cell_type": "code",
   "execution_count": 105,
   "metadata": {},
   "outputs": [],
   "source": [
    "#hide\n",
    "from nbdev.showdoc import *"
   ]
  },
  {
   "cell_type": "code",
   "execution_count": 117,
   "metadata": {},
   "outputs": [],
   "source": [
    "#export\n",
    "import os\n",
    "from pdf2image import convert_from_path"
   ]
  },
  {
   "cell_type": "code",
   "execution_count": 118,
   "metadata": {},
   "outputs": [],
   "source": [
    "#export\n",
    "\n",
    "class AlreadyImportedError(Exception):\n",
    "    pass\n",
    "\n",
    "class InvalidFilePath(Exception):\n",
    "    pass\n",
    "\n",
    "class InvalidFileExtension(Exception):\n",
    "    pass\n",
    "\n",
    "class Pdf:\n",
    "    def __init__(self, path):\n",
    "        if checkPath(path) != 'file':\n",
    "            raise InvalidFilePath('Invalid file path', self.path)\n",
    "        if path.endswith('.pdf'):\n",
    "            raise InvalidFileExtension('File must be pdf', self.path)\n",
    "            self.path = path\n",
    "            self.name = os.path.basename(self.path)\n",
    "\n",
    "    @staticmethod\n",
    "    def checkPath(path):\n",
    "        if os.path.isdir(path):  \n",
    "            return \"folder\"\n",
    "        elif os.path.isfile(path):  \n",
    "            return \"file\"  \n",
    "        else:\n",
    "            return None     \n",
    "    \n",
    "    def load(outputFolder, dpi=200, grayscale=True, size=(600, 846)):\n",
    "        \"\"\"Imports pdf pages to folder\n",
    "        outputFolder: pages image folder destiny\n",
    "        dpi: image quality, default 200\n",
    "        grayscale: filter to grayscale, default True\n",
    "        size: page image size, default (600, 846)\n",
    "        \"\"\"\n",
    "        nameWithoutExt = self.name[0]\n",
    "        outputFolder = outputFolder + self.name\n",
    "        if os.path.exists(outputFolder):\n",
    "            raise AlreadyImportedError('Pdf already imported: ',fileName)                      \n",
    "        metadata = {self.name: {}}\n",
    "        try:\n",
    "            pages = convert_from_path(filePath, dpi=200, grayscale=True, size=(600, 846))\n",
    "        except:\n",
    "            raise Exception(\"Could not convert from path: \", self.path)                      \n",
    "\n",
    "        metadata[self.name]['path'] = outputFolder\n",
    "        metadata[self.name]['pages'] = dict([(x,0) for x in range(1,len(pages)+1)])\n",
    "\n",
    "        try:\n",
    "            os.mkdir(outputFolder)\n",
    "        except OSError:\n",
    "            raise Exception(\"Could not create folder: \", outputFolder)\n",
    "\n",
    "        for idx, page in enumerate(pages):\n",
    "            try:\n",
    "                page.save(outputFolder+'/'+nameWithoutExt+'_'+str(idx+1)+'.png', 'PNG')\n",
    "            except OSError:\n",
    "                raise Exception(\"Could not save file:\", outputFolder+'/'+nameWithoutExt+'_'+str(idx+1)+'.png')            \n",
    "        return metadata\n",
    "                \n",
    "    @staticmethod\n",
    "    def load(path, outputFolder, dpi=200, grayscale=True, size=(600, 846)):\n",
    "        \"\"\"imports pdf pages to folder\n",
    "        path: string path for the file or folder\n",
    "        recursive: boolean choice for traversing the path folder searching for pdf files\n",
    "        outputFolder: pages image folder destiny\n",
    "        dpi: image quality, default 200\n",
    "        grayscale: filter to grayscale, default True\n",
    "        size: page image size, default (600, 846)\n",
    "        \"\"\"\n",
    "        if checkPath(path) == 'folder':\n",
    "            for root, d_names, f_names in os.walk(path):\n",
    "                for f in f_names:\n",
    "                    try:\n",
    "                        pdf = Pdf(os.path.join(root, f))\n",
    "                    except Exception as e:\n",
    "                        print(e)\n",
    "                        continue"
   ]
  },
  {
   "cell_type": "code",
   "execution_count": 119,
   "metadata": {},
   "outputs": [],
   "source": [
    "file = os.path.abspath('LICENSE')\n",
    "folder = os.path.abspath('docs')\n",
    "error = os.path.abspath('doesNotExist')\n",
    "assert Pdf.checkPath(file) ==  \"file\" \n",
    "assert Pdf.checkPath(folder) == \"folder\"\n",
    "assert Pdf.checkPath(error) == None"
   ]
  },
  {
   "cell_type": "code",
   "execution_count": null,
   "metadata": {},
   "outputs": [],
   "source": []
  }
 ],
 "metadata": {
  "kernelspec": {
   "display_name": "Python 3",
   "language": "python",
   "name": "python3"
  },
  "language_info": {
   "codemirror_mode": {
    "name": "ipython",
    "version": 3
   },
   "file_extension": ".py",
   "mimetype": "text/x-python",
   "name": "python",
   "nbconvert_exporter": "python",
   "pygments_lexer": "ipython3",
   "version": "3.8.8"
  },
  "toc": {
   "base_numbering": 1,
   "nav_menu": {},
   "number_sections": true,
   "sideBar": true,
   "skip_h1_title": false,
   "title_cell": "Table of Contents",
   "title_sidebar": "Contents",
   "toc_cell": false,
   "toc_position": {},
   "toc_section_display": true,
   "toc_window_display": false
  }
 },
 "nbformat": 4,
 "nbformat_minor": 2
}
