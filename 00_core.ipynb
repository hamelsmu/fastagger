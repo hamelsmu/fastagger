{
 "cells": [
  {
   "cell_type": "code",
   "execution_count": null,
   "metadata": {},
   "outputs": [],
   "source": [
    "# default_exp core"
   ]
  },
  {
   "cell_type": "code",
   "execution_count": null,
   "metadata": {},
   "outputs": [],
   "source": [
    "#hide \n",
    "%load_ext autoreload\n",
    "%autoreload 2"
   ]
  },
  {
   "cell_type": "markdown",
   "metadata": {},
   "source": [
    "# Core\n",
    "\n",
    "> Basic pdf operations available to fastagger."
   ]
  },
  {
   "cell_type": "code",
   "execution_count": null,
   "metadata": {},
   "outputs": [],
   "source": [
    "#hide\n",
    "from nbdev.showdoc import *"
   ]
  },
  {
   "cell_type": "code",
   "execution_count": null,
   "metadata": {},
   "outputs": [],
   "source": [
    "#export\n",
    "import os\n",
    "from pdf2image import convert_from_path"
   ]
  },
  {
   "cell_type": "code",
   "execution_count": null,
   "metadata": {},
   "outputs": [],
   "source": [
    "#export\n",
    "\n",
    "class AlreadyImportedError(Exception):\n",
    "    pass\n",
    "\n",
    "class InvalidFilePath(Exception):\n",
    "    pass\n",
    "\n",
    "class InvalidFolderPath(Exception):\n",
    "    pass\n",
    "\n",
    "class InvalidFileExtension(Exception):\n",
    "    pass\n",
    "\n",
    "class Pdf:\n",
    "    \"\"\"Entity that deals with pdf\n",
    "    \"\"\"\n",
    "    def __init__(self, path):\n",
    "        if self.getPathType(path) != 'file':\n",
    "            raise InvalidFilePath('Invalid file path', path)\n",
    "        if not path.endswith('.pdf'):\n",
    "            raise InvalidFileExtension('File must be pdf', path)\n",
    "        self.path = path\n",
    "        self.name = os.path.basename(self.path) \n",
    "        self.steamName = os.path.splitext(self.name)[0]\n",
    "    \n",
    "    def load(self, outputFolder, dpi=200, grayscale=True, size=(600, 846)):\n",
    "        \"\"\"Loads pdf images pages to output folder\n",
    "        \"\"\"\n",
    "        \n",
    "        outputFolder = outputFolder +'/'+ self.steamName\n",
    "        \n",
    "        if os.path.exists(outputFolder):\n",
    "            raise AlreadyImportedError('Pdf already imported: ',self.path)                      \n",
    "        metadata = {self.steamName: {}}\n",
    "        try:\n",
    "            pages = convert_from_path(self.path, dpi=200, grayscale=True, size=(600, 846))\n",
    "        except:\n",
    "            raise Exception(\"Could not convert from path: \", self.path)                      \n",
    "\n",
    "        metadata[self.steamName]['path'] = outputFolder\n",
    "        metadata[self.steamName]['pages'] = dict([(x,0) for x in range(1,len(pages)+1)])\n",
    "\n",
    "        try:\n",
    "            os.mkdir(outputFolder)\n",
    "        except OSError:\n",
    "            raise Exception(\"Could not create folder: \", outputFolder)\n",
    "\n",
    "        for idx, page in enumerate(pages):\n",
    "            try:\n",
    "                page.save(outputFolder+'/'+str(self.steamName)+'_'+str(idx+1)+'.png', 'PNG')\n",
    "            except OSError:\n",
    "                raise Exception(\"Could not save file:\", outputFolder+'/'+self.steamName+'_'+str(idx+1)+'.png')            \n",
    "        return metadata\n",
    "                \n",
    "    def bulkLoad(path, outputFolder, dpi=200, grayscale=True, size=(600, 846)):\n",
    "        \"\"\"From every pdf in the path folder, loads theirs image pages to the output folder\n",
    "        \"\"\"       \n",
    "        filesMetadata = {}\n",
    "        if Pdf.getPathType(path) == 'folder':\n",
    "            for root, d_names, f_names in os.walk(path):\n",
    "                for f in f_names:\n",
    "                    try:\n",
    "                        pdf = Pdf(os.path.join(root, f))\n",
    "                        metadata = pdf.load(outputFolder, dpi, grayscale, size)\n",
    "                        filesMetadata.update(metadata)                       \n",
    "                    except Exception as e:\n",
    "                        continue\n",
    "            return filesMetadata\n",
    "        else:\n",
    "            raise InvalidFolderPath('Invalid folder')\n",
    "            \n",
    "    @staticmethod\n",
    "    def getPathType(path):\n",
    "        \"\"\"Get the kind of the supplied path\n",
    "        \"\"\"        \n",
    "        \n",
    "        if os.path.isdir(path):  \n",
    "            return \"folder\"\n",
    "        elif os.path.isfile(path):  \n",
    "            return \"file\"  \n",
    "        else:\n",
    "            return None "
   ]
  },
  {
   "cell_type": "markdown",
   "metadata": {},
   "source": [
    "Let's test Pdf class"
   ]
  },
  {
   "cell_type": "code",
   "execution_count": null,
   "metadata": {},
   "outputs": [],
   "source": [
    "APP_ROOT = os.path.dirname(os.path.realpath('__file__'))\n",
    "p = Pdf(APP_ROOT+'/resources/pdfs/01.pdf')\n",
    "assert isinstance(p, Pdf)"
   ]
  },
  {
   "cell_type": "markdown",
   "metadata": {},
   "source": [
    "Now, it's time to `load` pdf images into the output folder"
   ]
  },
  {
   "cell_type": "code",
   "execution_count": null,
   "metadata": {},
   "outputs": [
    {
     "data": {
      "text/markdown": [
       "<h4 id=\"Pdf.load\" class=\"doc_header\"><code>Pdf.load</code><a href=\"__main__.py#L27\" class=\"source_link\" style=\"float:right\">[source]</a></h4>\n",
       "\n",
       "> <code>Pdf.load</code>(**`outputFolder`**, **`dpi`**=*`200`*, **`grayscale`**=*`True`*, **`size`**=*`(600, 846)`*)\n",
       "\n",
       "Loads pdf images pages to output folder\n",
       "        "
      ],
      "text/plain": [
       "<IPython.core.display.Markdown object>"
      ]
     },
     "metadata": {},
     "output_type": "display_data"
    }
   ],
   "source": [
    "show_doc(Pdf.load)"
   ]
  },
  {
   "cell_type": "code",
   "execution_count": null,
   "metadata": {},
   "outputs": [],
   "source": [
    "!rm -rf ./resources/pdfs/01\n",
    "metadata = p.load('./resources/pdfs')\n",
    "!rm -rf ./resources/pdfs/01\n",
    "obj = {'01': {'path': './resources/pdfs/01', 'pages': {1: 0}}}\n",
    "assert metadata == obj"
   ]
  },
  {
   "cell_type": "markdown",
   "metadata": {},
   "source": [
    "Let's check how to import a whole folder with `bulkLoad`"
   ]
  },
  {
   "cell_type": "code",
   "execution_count": null,
   "metadata": {},
   "outputs": [
    {
     "data": {
      "text/markdown": [
       "<h4 id=\"Pdf.bulkLoad\" class=\"doc_header\"><code>Pdf.bulkLoad</code><a href=\"__main__.py#L56\" class=\"source_link\" style=\"float:right\">[source]</a></h4>\n",
       "\n",
       "> <code>Pdf.bulkLoad</code>(**`path`**, **`outputFolder`**, **`dpi`**=*`200`*, **`grayscale`**=*`True`*, **`size`**=*`(600, 846)`*)\n",
       "\n",
       "From every pdf in the path folder, loads theirs image pages to the output folder\n",
       "        "
      ],
      "text/plain": [
       "<IPython.core.display.Markdown object>"
      ]
     },
     "metadata": {},
     "output_type": "display_data"
    }
   ],
   "source": [
    "show_doc(Pdf.bulkLoad)"
   ]
  },
  {
   "cell_type": "code",
   "execution_count": null,
   "metadata": {},
   "outputs": [],
   "source": [
    "path = './resources/pdfs'\n",
    "!rm -rf ./resources/pdfs/01\n",
    "!rm -rf ./resources/pdfs/02\n",
    "metadata = Pdf.bulkLoad('./resources/pdfs', './resources/pdfs')\n",
    "obj = {'02': {'path': './resources/pdfs/02',\n",
    "  'pages': {1: 0, 2: 0, 3: 0, 4: 0, 5: 0, 6: 0, 7: 0}},\n",
    " '01': {'path': './resources/pdfs/01', 'pages': {1: 0}}}\n",
    "!rm -rf ./resources/pdfs/01\n",
    "!rm -rf ./resources/pdfs/02\n",
    "assert metadata == obj"
   ]
  },
  {
   "cell_type": "code",
   "execution_count": null,
   "metadata": {},
   "outputs": [
    {
     "data": {
      "text/markdown": [
       "<h4 id=\"Pdf.getPathType\" class=\"doc_header\"><code>Pdf.getPathType</code><a href=\"__main__.py#L73\" class=\"source_link\" style=\"float:right\">[source]</a></h4>\n",
       "\n",
       "> <code>Pdf.getPathType</code>(**`path`**)\n",
       "\n",
       "Get the kind of the supplied path\n",
       "        "
      ],
      "text/plain": [
       "<IPython.core.display.Markdown object>"
      ]
     },
     "metadata": {},
     "output_type": "display_data"
    }
   ],
   "source": [
    "show_doc(Pdf.getPathType)"
   ]
  },
  {
   "cell_type": "markdown",
   "metadata": {},
   "source": [
    "Let's test the `checkPath` static method"
   ]
  },
  {
   "cell_type": "code",
   "execution_count": null,
   "metadata": {},
   "outputs": [],
   "source": [
    "file = os.path.abspath('LICENSE')\n",
    "folder = os.path.abspath('docs')\n",
    "error = os.path.abspath('doesNotExist')\n",
    "assert Pdf.getPathType(file) ==  \"file\" \n",
    "assert Pdf.getPathType(folder) == \"folder\"\n",
    "assert Pdf.getPathType(error) == None"
   ]
  },
  {
   "cell_type": "code",
   "execution_count": null,
   "metadata": {},
   "outputs": [],
   "source": []
  }
 ],
 "metadata": {
  "kernelspec": {
   "display_name": "Python 3",
   "language": "python",
   "name": "python3"
  }
 },
 "nbformat": 4,
 "nbformat_minor": 2
}
