{
 "cells": [
  {
   "cell_type": "code",
   "execution_count": null,
   "metadata": {},
   "outputs": [],
   "source": [
    "# default_exp core"
   ]
  },
  {
   "cell_type": "code",
   "execution_count": null,
   "metadata": {},
   "outputs": [
    {
     "name": "stdout",
     "output_type": "stream",
     "text": [
      "The autoreload extension is already loaded. To reload it, use:\n",
      "  %reload_ext autoreload\n"
     ]
    }
   ],
   "source": [
    "%load_ext autoreload\n",
    "%autoreload 2"
   ]
  },
  {
   "cell_type": "markdown",
   "metadata": {},
   "source": [
    "# Core\n",
    "\n",
    "> Basic pdf operations available to fastagger."
   ]
  },
  {
   "cell_type": "code",
   "execution_count": null,
   "metadata": {},
   "outputs": [],
   "source": [
    "#hide\n",
    "from nbdev.showdoc import *"
   ]
  },
  {
   "cell_type": "code",
   "execution_count": null,
   "metadata": {},
   "outputs": [],
   "source": [
    "#export\n",
    "import os\n",
    "from pdf2image import convert_from_path"
   ]
  },
  {
   "cell_type": "code",
   "execution_count": null,
   "metadata": {},
   "outputs": [],
   "source": [
    "#export\n",
    "\n",
    "class AlreadyImportedError(Exception):\n",
    "    pass\n",
    "\n",
    "class InvalidFilePath(Exception):\n",
    "    pass\n",
    "\n",
    "class InvalidFileExtension(Exception):\n",
    "    pass\n",
    "\n",
    "class Pdf:\n",
    "    \"\"\"Entity that deals with pdf\n",
    "    \"\"\"\n",
    "    def __init__(self, path):\n",
    "        if self.checkPath(path) != 'file':\n",
    "            raise InvalidFilePath('Invalid file path', path)\n",
    "        if not path.endswith('.pdf'):\n",
    "            raise InvalidFileExtension('File must be pdf', path)\n",
    "        self.path = path\n",
    "        self.name = os.path.basename(self.path) \n",
    "        self.steamName = os.path.splitext(self.name)[0]\n",
    "    \n",
    "    def load(self, outputFolder, dpi=200, grayscale=True, size=(600, 846)):\n",
    "        \"\"\"Imports pdf pages to folder\n",
    "        outputFolder: pages image folder destiny\n",
    "        dpi: image quality, default 200\n",
    "        grayscale: filter to grayscale, default True\n",
    "        size: page image size, default (600, 846)\n",
    "        \"\"\"\n",
    "        \n",
    "        outputFolder = outputFolder +'/'+ self.steamName\n",
    "        \n",
    "        if os.path.exists(outputFolder):\n",
    "            raise AlreadyImportedError('Pdf already imported: ',self.path)                      \n",
    "        metadata = {self.steamName: {}}\n",
    "        try:\n",
    "            pages = convert_from_path(self.path, dpi=200, grayscale=True, size=(600, 846))\n",
    "        except:\n",
    "            raise Exception(\"Could not convert from path: \", self.path)                      \n",
    "\n",
    "        metadata[self.steamName]['path'] = outputFolder\n",
    "        metadata[self.steamName]['pages'] = dict([(x,0) for x in range(1,len(pages)+1)])\n",
    "\n",
    "        try:\n",
    "            os.mkdir(outputFolder)\n",
    "        except OSError:\n",
    "            raise Exception(\"Could not create folder: \", outputFolder)\n",
    "\n",
    "        for idx, page in enumerate(pages):\n",
    "            try:\n",
    "                page.save(outputFolder+'/'+str(self.steamName)+'_'+str(idx+1)+'.png', 'PNG')\n",
    "            except OSError:\n",
    "                raise Exception(\"Could not save file:\", outputFolder+'/'+self.steamName+'_'+str(idx+1)+'.png')            \n",
    "        return metadata\n",
    "                \n",
    "    def bulkLoad(path, outputFolder, dpi=200, grayscale=True, size=(600, 846)):\n",
    "        \"\"\"imports pdf pages to folder\n",
    "        path: string path for the file or folder\n",
    "        recursive: boolean choice for traversing the path folder searching for pdf files\n",
    "        outputFolder: pages image folder destiny\n",
    "        dpi: image quality, default 200\n",
    "        grayscale: filter to grayscale, default True\n",
    "        size: page image size, default (600, 846)\n",
    "        \"\"\"\n",
    "        filesMetadata = {}\n",
    "        if Pdf.checkPath(path) == 'folder':\n",
    "            for root, d_names, f_names in os.walk(path):\n",
    "                for f in f_names:\n",
    "                    try:\n",
    "                        pdf = Pdf(os.path.join(root, f))\n",
    "                        metadata = pdf.load(outputFolder, dpi, grayscale, size)\n",
    "                        filesMetadata.update(metadata)                       \n",
    "                    except Exception as e:\n",
    "                        continue\n",
    "            return filesMetadata\n",
    "        else:\n",
    "            raise Exception('Invalid folder')\n",
    "            \n",
    "    @staticmethod\n",
    "    def checkPath(path):\n",
    "        if os.path.isdir(path):  \n",
    "            return \"folder\"\n",
    "        elif os.path.isfile(path):  \n",
    "            return \"file\"  \n",
    "        else:\n",
    "            return None "
   ]
  },
  {
   "cell_type": "markdown",
   "metadata": {},
   "source": [
    "Let's test Pdf class"
   ]
  },
  {
   "cell_type": "code",
   "execution_count": null,
   "metadata": {},
   "outputs": [],
   "source": [
    "APP_ROOT = os.path.dirname(os.path.realpath('__file__'))\n",
    "p = Pdf(APP_ROOT+'/resources/pdfs/01.pdf')\n",
    "assert isinstance(p, Pdf)\n",
    "\n",
    "!rm -rf ./resources/pdfs/01\n",
    "metadata = p.load('./resources/pdfs')\n",
    "obj = {'01': {'path': './resources/pdfs/01', 'pages': {1: 0}}}\n",
    "assert metadata == obj\n",
    "!rm -rf ./resources/pdfs/01"
   ]
  },
  {
   "cell_type": "markdown",
   "metadata": {},
   "source": [
    "Let's test the `checkPath` static method"
   ]
  },
  {
   "cell_type": "code",
   "execution_count": null,
   "metadata": {},
   "outputs": [],
   "source": [
    "file = os.path.abspath('LICENSE')\n",
    "folder = os.path.abspath('docs')\n",
    "error = os.path.abspath('doesNotExist')\n",
    "assert Pdf.checkPath(file) ==  \"file\" \n",
    "assert Pdf.checkPath(folder) == \"folder\"\n",
    "assert Pdf.checkPath(error) == None"
   ]
  },
  {
   "cell_type": "code",
   "execution_count": null,
   "metadata": {},
   "outputs": [],
   "source": [
    "path = './resources/pdfs'\n",
    "!rm -rf ./resources/pdfs/01\n",
    "!rm -rf ./resources/pdfs/02\n",
    "metadata = Pdf.bulkLoad('./resources/pdfs', './resources/pdfs')\n",
    "obj = {'02': {'path': './resources/pdfs/02',\n",
    "  'pages': {1: 0, 2: 0, 3: 0, 4: 0, 5: 0, 6: 0, 7: 0}},\n",
    " '01': {'path': './resources/pdfs/01', 'pages': {1: 0}}}\n",
    "!rm -rf ./resources/pdfs/01\n",
    "!rm -rf ./resources/pdfs/02\n",
    "assert metadata == obj"
   ]
  }
 ],
 "metadata": {
  "kernelspec": {
   "display_name": "Python 3",
   "language": "python",
   "name": "python3"
  }
 },
 "nbformat": 4,
 "nbformat_minor": 2
}
