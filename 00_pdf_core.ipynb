{
 "cells": [
  {
   "cell_type": "code",
   "execution_count": 2,
   "metadata": {},
   "outputs": [],
   "source": [
    "# default_exp pdf_core"
   ]
  },
  {
   "cell_type": "markdown",
   "metadata": {},
   "source": [
    "# Pdf Core\n",
    "\n",
    "> Basic pdf operations available to fastagger."
   ]
  },
  {
   "cell_type": "code",
   "execution_count": 3,
   "metadata": {},
   "outputs": [],
   "source": [
    "#hide\n",
    "from nbdev.showdoc import *"
   ]
  },
  {
   "cell_type": "code",
   "execution_count": 6,
   "metadata": {},
   "outputs": [],
   "source": [
    "import os\n",
    "from pdf2image import convert_from_path"
   ]
  },
  {
   "cell_type": "code",
   "execution_count": 52,
   "metadata": {},
   "outputs": [],
   "source": [
    "def checkPath(path):\n",
    "    if os.path.isdir(path):  \n",
    "        return \"folder\"\n",
    "    elif os.path.isfile(path):  \n",
    "        return \"file\"  \n",
    "    else:\n",
    "        return None"
   ]
  },
  {
   "cell_type": "code",
   "execution_count": 54,
   "metadata": {},
   "outputs": [],
   "source": [
    "file = os.path.abspath('LICENSE')\n",
    "folder = os.path.abspath('docs')\n",
    "error = ('doesNotExist')\n",
    "assert checkPath(file) ==  \"file\" \n",
    "assert checkPath(folder) == \"folder\"\n",
    "assert checkPath(error) == None"
   ]
  },
  {
   "cell_type": "code",
   "execution_count": 100,
   "metadata": {},
   "outputs": [],
   "source": [
    "#export\n",
    "def importPDFs(path, outputFolder, dpi=200, grayscale=True, size=(600, 846)):\n",
    "    \"\"\"imports pdf pages to folder\n",
    "    path: string path for the file or folder\n",
    "    recursive: boolean choice for traversing the path folder searching for pdf files\n",
    "    outputFolder: pages image folder destiny\n",
    "    dpi: image quality, default 200\n",
    "    grayscale: filter to grayscale, default True\n",
    "    size: page image size, default (600, 846)\n",
    "    \"\"\"\n",
    "    if checkPath(path) == 'folder':\n",
    "        for root, d_names, f_names in os.walk(path):\n",
    "            for f in f_names:\n",
    "                if f.endswith('.pdf'):\n",
    "                    try:\n",
    "                        importPDF(os.path.join(root, f), outputFolder, dpi, grayscale, size)\n",
    "                    except AlreadyImportedError as e:\n",
    "                        print(e)"
   ]
  },
  {
   "cell_type": "code",
   "execution_count": 103,
   "metadata": {},
   "outputs": [
    {
     "name": "stdout",
     "output_type": "stream",
     "text": [
      "('Pdf already imported: ', '0003230-12.2010.4.01.3500_2.pdf')\n"
     ]
    }
   ],
   "source": [
    "#hide\n",
    "importPDFs('/Users/fb/Code/src/github.com/nbdev/fastagger', './')"
   ]
  },
  {
   "cell_type": "code",
   "execution_count": 102,
   "metadata": {},
   "outputs": [],
   "source": [
    "class Error(Exception):\n",
    "    pass\n",
    "\n",
    "class AlreadyImportedError(Error):\n",
    "    pass\n",
    "\n",
    "def importPDF(filePath, outputFolder, dpi=200, grayscale=True, size=(600, 846)):\n",
    "    \"\"\"Imports pdf pages to folder\n",
    "    filePath: tring path for the file to be imported\n",
    "    outputFolder: pages image folder destiny\n",
    "    dpi: image quality, default 200\n",
    "    grayscale: filter to grayscale, default True\n",
    "    size: page image size, default (600, 846)\n",
    "    \"\"\"\n",
    "    if checkPath(filePath) == 'file':\n",
    "        fileName = os.path.basename(filePath)\n",
    "        if fileName.endswith('.pdf'):\n",
    "            fileNameBase = os.path.splitext(fileName)[0]\n",
    "            outputFolder = outputFolder + fileNameBase\n",
    "            if os.path.exists(outputFolder):\n",
    "                raise AlreadyImportedError('Pdf already imported: ',fileName)                      \n",
    "            metadata = {fileNameBase: {}}\n",
    "            try:\n",
    "                pages = convert_from_path(filePath, dpi=200, grayscale=True, size=(600, 846))\n",
    "            except:\n",
    "                raise Exception(\"Could not convert from path: \", filePath)                      \n",
    "\n",
    "            metadata[fileNameBase]['path'] = outputFolder\n",
    "            metadata[fileNameBase]['pages'] = dict([(x,0) for x in range(1,len(pages)+1)])\n",
    "            \n",
    "            try:\n",
    "                os.mkdir(outputFolder)\n",
    "            except OSError:\n",
    "                raise Exception(\"Could not create folder: \", outputFolder)\n",
    "                \n",
    "            for idx, page in enumerate(pages):\n",
    "                try:\n",
    "                    page.save(outputFolder+'/'+fileNameBase+'_'+str(idx+1)+'.png', 'PNG')\n",
    "                except OSError:\n",
    "                    raise Exception(\"Could not save file:\", outputFolder+'/'+fileNameBase+'_'+str(idx+1)+'.png')            \n",
    "            return metadata\n",
    "        else:\n",
    "            raise Exception('File must be pdf: ', fileName) \n",
    "    else:\n",
    "        raise Exception('Invalid file path', filePath)"
   ]
  },
  {
   "cell_type": "code",
   "execution_count": 104,
   "metadata": {},
   "outputs": [
    {
     "ename": "AlreadyImportedError",
     "evalue": "('Pdf already imported: ', '0003230-12.2010.4.01.3500_2.pdf')",
     "output_type": "error",
     "traceback": [
      "\u001b[0;31m---------------------------------------------------------------------------\u001b[0m",
      "\u001b[0;31mAlreadyImportedError\u001b[0m                      Traceback (most recent call last)",
      "\u001b[0;32m<ipython-input-104-584f0ab54bd9>\u001b[0m in \u001b[0;36m<module>\u001b[0;34m\u001b[0m\n\u001b[1;32m      1\u001b[0m \u001b[0;31m#hide\u001b[0m\u001b[0;34m\u001b[0m\u001b[0;34m\u001b[0m\u001b[0;34m\u001b[0m\u001b[0m\n\u001b[0;32m----> 2\u001b[0;31m \u001b[0mimportPDF\u001b[0m\u001b[0;34m(\u001b[0m\u001b[0;34m'0003230-12.2010.4.01.3500_2.pdf'\u001b[0m\u001b[0;34m,\u001b[0m\u001b[0;34m'./'\u001b[0m\u001b[0;34m)\u001b[0m\u001b[0;34m\u001b[0m\u001b[0;34m\u001b[0m\u001b[0m\n\u001b[0m",
      "\u001b[0;32m<ipython-input-102-926764d1323b>\u001b[0m in \u001b[0;36mimportPDF\u001b[0;34m(filePath, outputFolder, dpi, grayscale, size)\u001b[0m\n\u001b[1;32m     19\u001b[0m             \u001b[0moutputFolder\u001b[0m \u001b[0;34m=\u001b[0m \u001b[0moutputFolder\u001b[0m \u001b[0;34m+\u001b[0m \u001b[0mfileNameBase\u001b[0m\u001b[0;34m\u001b[0m\u001b[0;34m\u001b[0m\u001b[0m\n\u001b[1;32m     20\u001b[0m             \u001b[0;32mif\u001b[0m \u001b[0mos\u001b[0m\u001b[0;34m.\u001b[0m\u001b[0mpath\u001b[0m\u001b[0;34m.\u001b[0m\u001b[0mexists\u001b[0m\u001b[0;34m(\u001b[0m\u001b[0moutputFolder\u001b[0m\u001b[0;34m)\u001b[0m\u001b[0;34m:\u001b[0m\u001b[0;34m\u001b[0m\u001b[0;34m\u001b[0m\u001b[0m\n\u001b[0;32m---> 21\u001b[0;31m                 \u001b[0;32mraise\u001b[0m \u001b[0mAlreadyImportedError\u001b[0m\u001b[0;34m(\u001b[0m\u001b[0;34m'Pdf already imported: '\u001b[0m\u001b[0;34m,\u001b[0m\u001b[0mfileName\u001b[0m\u001b[0;34m)\u001b[0m\u001b[0;34m\u001b[0m\u001b[0;34m\u001b[0m\u001b[0m\n\u001b[0m\u001b[1;32m     22\u001b[0m             \u001b[0mmetadata\u001b[0m \u001b[0;34m=\u001b[0m \u001b[0;34m{\u001b[0m\u001b[0mfileNameBase\u001b[0m\u001b[0;34m:\u001b[0m \u001b[0;34m{\u001b[0m\u001b[0;34m}\u001b[0m\u001b[0;34m}\u001b[0m\u001b[0;34m\u001b[0m\u001b[0;34m\u001b[0m\u001b[0m\n\u001b[1;32m     23\u001b[0m             \u001b[0;32mtry\u001b[0m\u001b[0;34m:\u001b[0m\u001b[0;34m\u001b[0m\u001b[0;34m\u001b[0m\u001b[0m\n",
      "\u001b[0;31mAlreadyImportedError\u001b[0m: ('Pdf already imported: ', '0003230-12.2010.4.01.3500_2.pdf')"
     ]
    }
   ],
   "source": [
    "#hide\n",
    "importPDF('0003230-12.2010.4.01.3500_2.pdf','./') "
   ]
  },
  {
   "cell_type": "code",
   "execution_count": null,
   "metadata": {},
   "outputs": [],
   "source": []
  }
 ],
 "metadata": {
  "kernelspec": {
   "display_name": "Python 3",
   "language": "python",
   "name": "python3"
  },
  "language_info": {
   "codemirror_mode": {
    "name": "ipython",
    "version": 3
   },
   "file_extension": ".py",
   "mimetype": "text/x-python",
   "name": "python",
   "nbconvert_exporter": "python",
   "pygments_lexer": "ipython3",
   "version": "3.8.8"
  },
  "toc": {
   "base_numbering": 1,
   "nav_menu": {},
   "number_sections": true,
   "sideBar": true,
   "skip_h1_title": false,
   "title_cell": "Table of Contents",
   "title_sidebar": "Contents",
   "toc_cell": false,
   "toc_position": {},
   "toc_section_display": true,
   "toc_window_display": false
  }
 },
 "nbformat": 4,
 "nbformat_minor": 2
}
